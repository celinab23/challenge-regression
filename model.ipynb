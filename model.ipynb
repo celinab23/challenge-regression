{
 "cells": [
  {
   "cell_type": "code",
   "execution_count": 1,
   "metadata": {},
   "outputs": [],
   "source": [
    "import pandas as pd\n",
    "import numpy as np\n",
    "from sklearn.model_selection import train_test_split\n",
    "from sklearn.preprocessing import StandardScaler\n",
    "from keras.models import Sequential\n",
    "from keras.layers import Dense, Dropout\n",
    "from keras.optimizers import Adam\n",
    "from keras.callbacks import EarlyStopping\n",
    "import matplotlib.pyplot as plt\n",
    "from sklearn.metrics import root_mean_squared_error"
   ]
  },
  {
   "cell_type": "code",
   "execution_count": 2,
   "metadata": {},
   "outputs": [],
   "source": [
    "df = pd.read_csv('ml_data.csv')"
   ]
  },
  {
   "cell_type": "code",
   "execution_count": 3,
   "metadata": {},
   "outputs": [
    {
     "data": {
      "text/html": [
       "<div>\n",
       "<style scoped>\n",
       "    .dataframe tbody tr th:only-of-type {\n",
       "        vertical-align: middle;\n",
       "    }\n",
       "\n",
       "    .dataframe tbody tr th {\n",
       "        vertical-align: top;\n",
       "    }\n",
       "\n",
       "    .dataframe thead th {\n",
       "        text-align: right;\n",
       "    }\n",
       "</style>\n",
       "<table border=\"1\" class=\"dataframe\">\n",
       "  <thead>\n",
       "    <tr style=\"text-align: right;\">\n",
       "      <th></th>\n",
       "      <th>type_of_property</th>\n",
       "      <th>price</th>\n",
       "      <th>building_condition</th>\n",
       "      <th>facade_number</th>\n",
       "      <th>living_area</th>\n",
       "      <th>equipped_kitchen</th>\n",
       "      <th>terrace</th>\n",
       "      <th>garden</th>\n",
       "      <th>subtype_ecoded</th>\n",
       "      <th>km_to_capital</th>\n",
       "    </tr>\n",
       "  </thead>\n",
       "  <tbody>\n",
       "    <tr>\n",
       "      <th>0</th>\n",
       "      <td>0</td>\n",
       "      <td>149000.0</td>\n",
       "      <td>2</td>\n",
       "      <td>2.0</td>\n",
       "      <td>48</td>\n",
       "      <td>1</td>\n",
       "      <td>9</td>\n",
       "      <td>0</td>\n",
       "      <td>7</td>\n",
       "      <td>3.33</td>\n",
       "    </tr>\n",
       "    <tr>\n",
       "      <th>1</th>\n",
       "      <td>0</td>\n",
       "      <td>248000.0</td>\n",
       "      <td>2</td>\n",
       "      <td>2.0</td>\n",
       "      <td>91</td>\n",
       "      <td>1</td>\n",
       "      <td>2</td>\n",
       "      <td>0</td>\n",
       "      <td>7</td>\n",
       "      <td>3.91</td>\n",
       "    </tr>\n",
       "    <tr>\n",
       "      <th>2</th>\n",
       "      <td>0</td>\n",
       "      <td>229000.0</td>\n",
       "      <td>2</td>\n",
       "      <td>2.0</td>\n",
       "      <td>100</td>\n",
       "      <td>0</td>\n",
       "      <td>26</td>\n",
       "      <td>0</td>\n",
       "      <td>7</td>\n",
       "      <td>6.62</td>\n",
       "    </tr>\n",
       "    <tr>\n",
       "      <th>3</th>\n",
       "      <td>0</td>\n",
       "      <td>470000.0</td>\n",
       "      <td>2</td>\n",
       "      <td>2.0</td>\n",
       "      <td>179</td>\n",
       "      <td>2</td>\n",
       "      <td>10</td>\n",
       "      <td>0</td>\n",
       "      <td>7</td>\n",
       "      <td>5.29</td>\n",
       "    </tr>\n",
       "    <tr>\n",
       "      <th>4</th>\n",
       "      <td>0</td>\n",
       "      <td>480000.0</td>\n",
       "      <td>2</td>\n",
       "      <td>2.0</td>\n",
       "      <td>116</td>\n",
       "      <td>1</td>\n",
       "      <td>7</td>\n",
       "      <td>0</td>\n",
       "      <td>7</td>\n",
       "      <td>1.07</td>\n",
       "    </tr>\n",
       "  </tbody>\n",
       "</table>\n",
       "</div>"
      ],
      "text/plain": [
       "   type_of_property     price  building_condition  facade_number  living_area  \\\n",
       "0                 0  149000.0                   2            2.0           48   \n",
       "1                 0  248000.0                   2            2.0           91   \n",
       "2                 0  229000.0                   2            2.0          100   \n",
       "3                 0  470000.0                   2            2.0          179   \n",
       "4                 0  480000.0                   2            2.0          116   \n",
       "\n",
       "   equipped_kitchen  terrace  garden  subtype_ecoded  km_to_capital  \n",
       "0                 1        9       0               7           3.33  \n",
       "1                 1        2       0               7           3.91  \n",
       "2                 0       26       0               7           6.62  \n",
       "3                 2       10       0               7           5.29  \n",
       "4                 1        7       0               7           1.07  "
      ]
     },
     "execution_count": 3,
     "metadata": {},
     "output_type": "execute_result"
    }
   ],
   "source": [
    "df.head()"
   ]
  },
  {
   "cell_type": "code",
   "execution_count": 4,
   "metadata": {},
   "outputs": [],
   "source": [
    "# Select the columns to be used   # \n",
    "features = ['type_of_property', 'building_condition', 'facade_number',\n",
    "       'living_area', 'equipped_kitchen', 'terrace', 'garden',\n",
    "       'subtype_ecoded', 'km_to_capital']"
   ]
  },
  {
   "cell_type": "code",
   "execution_count": 5,
   "metadata": {},
   "outputs": [],
   "source": [
    "# Apply logarithm to the target col, so larger values are more compressed than small ones,\n",
    "# making it easier for the model to handle outliers\n",
    "df['price'] = np.log1p(df['price'])"
   ]
  },
  {
   "cell_type": "code",
   "execution_count": 6,
   "metadata": {},
   "outputs": [],
   "source": [
    "# Split the data in features and target columns\n",
    "X = df[features].values\n",
    "y = df['price'].values.reshape(-1,1)"
   ]
  },
  {
   "cell_type": "code",
   "execution_count": 7,
   "metadata": {},
   "outputs": [],
   "source": [
    "# Normalize the data\n",
    "scaler_x = StandardScaler()\n",
    "scaler_y = StandardScaler()\n",
    "X = scaler_x.fit_transform(X)\n",
    "y = scaler_y.fit_transform(y) "
   ]
  },
  {
   "cell_type": "code",
   "execution_count": 8,
   "metadata": {},
   "outputs": [],
   "source": [
    "# Split X and y into train and test sets\n",
    "X_train, X_test, y_train, y_test = train_test_split(X, y, test_size=0.2, random_state=42)"
   ]
  },
  {
   "cell_type": "code",
   "execution_count": 9,
   "metadata": {},
   "outputs": [
    {
     "name": "stderr",
     "output_type": "stream",
     "text": [
      "c:\\Users\\celin\\OneDrive\\Desktop\\Bootcamp\\mlenv\\lib\\site-packages\\keras\\src\\layers\\core\\dense.py:87: UserWarning: Do not pass an `input_shape`/`input_dim` argument to a layer. When using Sequential models, prefer using an `Input(shape)` object as the first layer in the model instead.\n",
      "  super().__init__(activity_regularizer=activity_regularizer, **kwargs)\n"
     ]
    }
   ],
   "source": [
    "# Build model\n",
    "model = Sequential()\n",
    "model.add(Dense(128, input_shape=(len(features),), activation='relu'))\n",
    "model.add(Dense(64, activation='relu'))\n",
    "model.add(Dropout(0.1))\n",
    "model.add(Dense(32, activation='relu'))\n",
    "model.add(Dropout(0.1))\n",
    "model.add(Dense(1)) # output layer\n",
    "\n",
    "# Set an optimizer\n",
    "optimizer = Adam(learning_rate=0.001)\n",
    "\n",
    "# Compile the model\n",
    "model.compile(optimizer=optimizer, loss='mse', metrics=['mae'])"
   ]
  },
  {
   "cell_type": "code",
   "execution_count": 10,
   "metadata": {},
   "outputs": [
    {
     "name": "stdout",
     "output_type": "stream",
     "text": [
      "Epoch 1/50\n",
      "\u001b[1m478/478\u001b[0m \u001b[32m━━━━━━━━━━━━━━━━━━━━\u001b[0m\u001b[37m\u001b[0m \u001b[1m3s\u001b[0m 3ms/step - loss: 0.6229 - mae: 0.5668 - val_loss: 0.4397 - val_mae: 0.4759\n",
      "Epoch 2/50\n",
      "\u001b[1m478/478\u001b[0m \u001b[32m━━━━━━━━━━━━━━━━━━━━\u001b[0m\u001b[37m\u001b[0m \u001b[1m1s\u001b[0m 3ms/step - loss: 0.5049 - mae: 0.5109 - val_loss: 0.4083 - val_mae: 0.4564\n",
      "Epoch 3/50\n",
      "\u001b[1m478/478\u001b[0m \u001b[32m━━━━━━━━━━━━━━━━━━━━\u001b[0m\u001b[37m\u001b[0m \u001b[1m1s\u001b[0m 3ms/step - loss: 0.4772 - mae: 0.4967 - val_loss: 0.4206 - val_mae: 0.4627\n",
      "Epoch 4/50\n",
      "\u001b[1m478/478\u001b[0m \u001b[32m━━━━━━━━━━━━━━━━━━━━\u001b[0m\u001b[37m\u001b[0m \u001b[1m1s\u001b[0m 3ms/step - loss: 0.4726 - mae: 0.4934 - val_loss: 0.4029 - val_mae: 0.4514\n",
      "Epoch 5/50\n",
      "\u001b[1m478/478\u001b[0m \u001b[32m━━━━━━━━━━━━━━━━━━━━\u001b[0m\u001b[37m\u001b[0m \u001b[1m1s\u001b[0m 3ms/step - loss: 0.4692 - mae: 0.4901 - val_loss: 0.3970 - val_mae: 0.4479\n",
      "Epoch 6/50\n",
      "\u001b[1m478/478\u001b[0m \u001b[32m━━━━━━━━━━━━━━━━━━━━\u001b[0m\u001b[37m\u001b[0m \u001b[1m1s\u001b[0m 3ms/step - loss: 0.4579 - mae: 0.4844 - val_loss: 0.4065 - val_mae: 0.4517\n",
      "Epoch 7/50\n",
      "\u001b[1m478/478\u001b[0m \u001b[32m━━━━━━━━━━━━━━━━━━━━\u001b[0m\u001b[37m\u001b[0m \u001b[1m1s\u001b[0m 3ms/step - loss: 0.4582 - mae: 0.4844 - val_loss: 0.3888 - val_mae: 0.4439\n",
      "Epoch 8/50\n",
      "\u001b[1m478/478\u001b[0m \u001b[32m━━━━━━━━━━━━━━━━━━━━\u001b[0m\u001b[37m\u001b[0m \u001b[1m1s\u001b[0m 3ms/step - loss: 0.4516 - mae: 0.4788 - val_loss: 0.3893 - val_mae: 0.4446\n",
      "Epoch 9/50\n",
      "\u001b[1m478/478\u001b[0m \u001b[32m━━━━━━━━━━━━━━━━━━━━\u001b[0m\u001b[37m\u001b[0m \u001b[1m1s\u001b[0m 3ms/step - loss: 0.4502 - mae: 0.4784 - val_loss: 0.3890 - val_mae: 0.4442\n",
      "Epoch 10/50\n",
      "\u001b[1m478/478\u001b[0m \u001b[32m━━━━━━━━━━━━━━━━━━━━\u001b[0m\u001b[37m\u001b[0m \u001b[1m1s\u001b[0m 3ms/step - loss: 0.4466 - mae: 0.4776 - val_loss: 0.3895 - val_mae: 0.4443\n",
      "Epoch 11/50\n",
      "\u001b[1m478/478\u001b[0m \u001b[32m━━━━━━━━━━━━━━━━━━━━\u001b[0m\u001b[37m\u001b[0m \u001b[1m1s\u001b[0m 3ms/step - loss: 0.4439 - mae: 0.4751 - val_loss: 0.3843 - val_mae: 0.4416\n",
      "Epoch 12/50\n",
      "\u001b[1m478/478\u001b[0m \u001b[32m━━━━━━━━━━━━━━━━━━━━\u001b[0m\u001b[37m\u001b[0m \u001b[1m1s\u001b[0m 3ms/step - loss: 0.4401 - mae: 0.4736 - val_loss: 0.3939 - val_mae: 0.4455\n",
      "Epoch 13/50\n",
      "\u001b[1m478/478\u001b[0m \u001b[32m━━━━━━━━━━━━━━━━━━━━\u001b[0m\u001b[37m\u001b[0m \u001b[1m1s\u001b[0m 3ms/step - loss: 0.4369 - mae: 0.4705 - val_loss: 0.3885 - val_mae: 0.4440\n",
      "Epoch 14/50\n",
      "\u001b[1m478/478\u001b[0m \u001b[32m━━━━━━━━━━━━━━━━━━━━\u001b[0m\u001b[37m\u001b[0m \u001b[1m1s\u001b[0m 3ms/step - loss: 0.4392 - mae: 0.4731 - val_loss: 0.3868 - val_mae: 0.4424\n",
      "Epoch 15/50\n",
      "\u001b[1m478/478\u001b[0m \u001b[32m━━━━━━━━━━━━━━━━━━━━\u001b[0m\u001b[37m\u001b[0m \u001b[1m1s\u001b[0m 3ms/step - loss: 0.4380 - mae: 0.4732 - val_loss: 0.3944 - val_mae: 0.4461\n",
      "Epoch 16/50\n",
      "\u001b[1m478/478\u001b[0m \u001b[32m━━━━━━━━━━━━━━━━━━━━\u001b[0m\u001b[37m\u001b[0m \u001b[1m1s\u001b[0m 3ms/step - loss: 0.4340 - mae: 0.4704 - val_loss: 0.3835 - val_mae: 0.4398\n",
      "Epoch 17/50\n",
      "\u001b[1m478/478\u001b[0m \u001b[32m━━━━━━━━━━━━━━━━━━━━\u001b[0m\u001b[37m\u001b[0m \u001b[1m1s\u001b[0m 3ms/step - loss: 0.4337 - mae: 0.4689 - val_loss: 0.3846 - val_mae: 0.4406\n",
      "Epoch 18/50\n",
      "\u001b[1m478/478\u001b[0m \u001b[32m━━━━━━━━━━━━━━━━━━━━\u001b[0m\u001b[37m\u001b[0m \u001b[1m1s\u001b[0m 3ms/step - loss: 0.4321 - mae: 0.4674 - val_loss: 0.3847 - val_mae: 0.4406\n",
      "Epoch 19/50\n",
      "\u001b[1m478/478\u001b[0m \u001b[32m━━━━━━━━━━━━━━━━━━━━\u001b[0m\u001b[37m\u001b[0m \u001b[1m1s\u001b[0m 3ms/step - loss: 0.4265 - mae: 0.4660 - val_loss: 0.3885 - val_mae: 0.4443\n",
      "Epoch 20/50\n",
      "\u001b[1m478/478\u001b[0m \u001b[32m━━━━━━━━━━━━━━━━━━━━\u001b[0m\u001b[37m\u001b[0m \u001b[1m1s\u001b[0m 3ms/step - loss: 0.4257 - mae: 0.4657 - val_loss: 0.3851 - val_mae: 0.4400\n",
      "Epoch 21/50\n",
      "\u001b[1m478/478\u001b[0m \u001b[32m━━━━━━━━━━━━━━━━━━━━\u001b[0m\u001b[37m\u001b[0m \u001b[1m1s\u001b[0m 3ms/step - loss: 0.4256 - mae: 0.4656 - val_loss: 0.3895 - val_mae: 0.4425\n",
      "Epoch 22/50\n",
      "\u001b[1m478/478\u001b[0m \u001b[32m━━━━━━━━━━━━━━━━━━━━\u001b[0m\u001b[37m\u001b[0m \u001b[1m1s\u001b[0m 3ms/step - loss: 0.4185 - mae: 0.4622 - val_loss: 0.3902 - val_mae: 0.4446\n",
      "Epoch 23/50\n",
      "\u001b[1m478/478\u001b[0m \u001b[32m━━━━━━━━━━━━━━━━━━━━\u001b[0m\u001b[37m\u001b[0m \u001b[1m1s\u001b[0m 3ms/step - loss: 0.4191 - mae: 0.4619 - val_loss: 0.3954 - val_mae: 0.4467\n",
      "Epoch 24/50\n",
      "\u001b[1m478/478\u001b[0m \u001b[32m━━━━━━━━━━━━━━━━━━━━\u001b[0m\u001b[37m\u001b[0m \u001b[1m1s\u001b[0m 3ms/step - loss: 0.4231 - mae: 0.4634 - val_loss: 0.3877 - val_mae: 0.4406\n",
      "Epoch 25/50\n",
      "\u001b[1m478/478\u001b[0m \u001b[32m━━━━━━━━━━━━━━━━━━━━\u001b[0m\u001b[37m\u001b[0m \u001b[1m1s\u001b[0m 3ms/step - loss: 0.4132 - mae: 0.4597 - val_loss: 0.3820 - val_mae: 0.4386\n",
      "Epoch 26/50\n",
      "\u001b[1m478/478\u001b[0m \u001b[32m━━━━━━━━━━━━━━━━━━━━\u001b[0m\u001b[37m\u001b[0m \u001b[1m1s\u001b[0m 3ms/step - loss: 0.4168 - mae: 0.4613 - val_loss: 0.3841 - val_mae: 0.4433\n",
      "Epoch 27/50\n",
      "\u001b[1m478/478\u001b[0m \u001b[32m━━━━━━━━━━━━━━━━━━━━\u001b[0m\u001b[37m\u001b[0m \u001b[1m1s\u001b[0m 3ms/step - loss: 0.4113 - mae: 0.4610 - val_loss: 0.3810 - val_mae: 0.4409\n",
      "Epoch 28/50\n",
      "\u001b[1m478/478\u001b[0m \u001b[32m━━━━━━━━━━━━━━━━━━━━\u001b[0m\u001b[37m\u001b[0m \u001b[1m1s\u001b[0m 3ms/step - loss: 0.4071 - mae: 0.4568 - val_loss: 0.3778 - val_mae: 0.4389\n",
      "Epoch 29/50\n",
      "\u001b[1m478/478\u001b[0m \u001b[32m━━━━━━━━━━━━━━━━━━━━\u001b[0m\u001b[37m\u001b[0m \u001b[1m1s\u001b[0m 3ms/step - loss: 0.4047 - mae: 0.4582 - val_loss: 0.3769 - val_mae: 0.4387\n",
      "Epoch 30/50\n",
      "\u001b[1m478/478\u001b[0m \u001b[32m━━━━━━━━━━━━━━━━━━━━\u001b[0m\u001b[37m\u001b[0m \u001b[1m1s\u001b[0m 3ms/step - loss: 0.3957 - mae: 0.4527 - val_loss: 0.3724 - val_mae: 0.4401\n",
      "Epoch 31/50\n",
      "\u001b[1m478/478\u001b[0m \u001b[32m━━━━━━━━━━━━━━━━━━━━\u001b[0m\u001b[37m\u001b[0m \u001b[1m1s\u001b[0m 3ms/step - loss: 0.3937 - mae: 0.4543 - val_loss: 0.3777 - val_mae: 0.4436\n",
      "Epoch 32/50\n",
      "\u001b[1m478/478\u001b[0m \u001b[32m━━━━━━━━━━━━━━━━━━━━\u001b[0m\u001b[37m\u001b[0m \u001b[1m1s\u001b[0m 3ms/step - loss: 0.3872 - mae: 0.4506 - val_loss: 0.3678 - val_mae: 0.4379\n",
      "Epoch 33/50\n",
      "\u001b[1m478/478\u001b[0m \u001b[32m━━━━━━━━━━━━━━━━━━━━\u001b[0m\u001b[37m\u001b[0m \u001b[1m1s\u001b[0m 3ms/step - loss: 0.3899 - mae: 0.4495 - val_loss: 0.3714 - val_mae: 0.4392\n",
      "Epoch 34/50\n",
      "\u001b[1m478/478\u001b[0m \u001b[32m━━━━━━━━━━━━━━━━━━━━\u001b[0m\u001b[37m\u001b[0m \u001b[1m1s\u001b[0m 3ms/step - loss: 0.3845 - mae: 0.4489 - val_loss: 0.3631 - val_mae: 0.4368\n",
      "Epoch 35/50\n",
      "\u001b[1m478/478\u001b[0m \u001b[32m━━━━━━━━━━━━━━━━━━━━\u001b[0m\u001b[37m\u001b[0m \u001b[1m1s\u001b[0m 3ms/step - loss: 0.3768 - mae: 0.4446 - val_loss: 0.3664 - val_mae: 0.4343\n",
      "Epoch 36/50\n",
      "\u001b[1m478/478\u001b[0m \u001b[32m━━━━━━━━━━━━━━━━━━━━\u001b[0m\u001b[37m\u001b[0m \u001b[1m1s\u001b[0m 3ms/step - loss: 0.3747 - mae: 0.4424 - val_loss: 0.3653 - val_mae: 0.4363\n",
      "Epoch 37/50\n",
      "\u001b[1m478/478\u001b[0m \u001b[32m━━━━━━━━━━━━━━━━━━━━\u001b[0m\u001b[37m\u001b[0m \u001b[1m1s\u001b[0m 3ms/step - loss: 0.3729 - mae: 0.4433 - val_loss: 0.3613 - val_mae: 0.4358\n",
      "Epoch 38/50\n",
      "\u001b[1m478/478\u001b[0m \u001b[32m━━━━━━━━━━━━━━━━━━━━\u001b[0m\u001b[37m\u001b[0m \u001b[1m1s\u001b[0m 3ms/step - loss: 0.3674 - mae: 0.4381 - val_loss: 0.3556 - val_mae: 0.4304\n",
      "Epoch 39/50\n",
      "\u001b[1m478/478\u001b[0m \u001b[32m━━━━━━━━━━━━━━━━━━━━\u001b[0m\u001b[37m\u001b[0m \u001b[1m1s\u001b[0m 3ms/step - loss: 0.3710 - mae: 0.4415 - val_loss: 0.3508 - val_mae: 0.4298\n",
      "Epoch 40/50\n",
      "\u001b[1m478/478\u001b[0m \u001b[32m━━━━━━━━━━━━━━━━━━━━\u001b[0m\u001b[37m\u001b[0m \u001b[1m1s\u001b[0m 3ms/step - loss: 0.3619 - mae: 0.4362 - val_loss: 0.3586 - val_mae: 0.4324\n",
      "Epoch 41/50\n",
      "\u001b[1m478/478\u001b[0m \u001b[32m━━━━━━━━━━━━━━━━━━━━\u001b[0m\u001b[37m\u001b[0m \u001b[1m1s\u001b[0m 3ms/step - loss: 0.3658 - mae: 0.4375 - val_loss: 0.3479 - val_mae: 0.4279\n",
      "Epoch 42/50\n",
      "\u001b[1m478/478\u001b[0m \u001b[32m━━━━━━━━━━━━━━━━━━━━\u001b[0m\u001b[37m\u001b[0m \u001b[1m1s\u001b[0m 3ms/step - loss: 0.3619 - mae: 0.4348 - val_loss: 0.3642 - val_mae: 0.4318\n",
      "Epoch 43/50\n",
      "\u001b[1m478/478\u001b[0m \u001b[32m━━━━━━━━━━━━━━━━━━━━\u001b[0m\u001b[37m\u001b[0m \u001b[1m2s\u001b[0m 3ms/step - loss: 0.3635 - mae: 0.4353 - val_loss: 0.3494 - val_mae: 0.4265\n",
      "Epoch 44/50\n",
      "\u001b[1m478/478\u001b[0m \u001b[32m━━━━━━━━━━━━━━━━━━━━\u001b[0m\u001b[37m\u001b[0m \u001b[1m1s\u001b[0m 3ms/step - loss: 0.3551 - mae: 0.4314 - val_loss: 0.3600 - val_mae: 0.4316\n",
      "Epoch 45/50\n",
      "\u001b[1m478/478\u001b[0m \u001b[32m━━━━━━━━━━━━━━━━━━━━\u001b[0m\u001b[37m\u001b[0m \u001b[1m1s\u001b[0m 3ms/step - loss: 0.3593 - mae: 0.4343 - val_loss: 0.3646 - val_mae: 0.4315\n",
      "Epoch 46/50\n",
      "\u001b[1m478/478\u001b[0m \u001b[32m━━━━━━━━━━━━━━━━━━━━\u001b[0m\u001b[37m\u001b[0m \u001b[1m1s\u001b[0m 3ms/step - loss: 0.3550 - mae: 0.4317 - val_loss: 0.3642 - val_mae: 0.4364\n",
      "Epoch 47/50\n",
      "\u001b[1m478/478\u001b[0m \u001b[32m━━━━━━━━━━━━━━━━━━━━\u001b[0m\u001b[37m\u001b[0m \u001b[1m1s\u001b[0m 3ms/step - loss: 0.3585 - mae: 0.4326 - val_loss: 0.3711 - val_mae: 0.4351\n",
      "Epoch 48/50\n",
      "\u001b[1m478/478\u001b[0m \u001b[32m━━━━━━━━━━━━━━━━━━━━\u001b[0m\u001b[37m\u001b[0m \u001b[1m1s\u001b[0m 3ms/step - loss: 0.3654 - mae: 0.4370 - val_loss: 0.3371 - val_mae: 0.4224\n",
      "Epoch 49/50\n",
      "\u001b[1m478/478\u001b[0m \u001b[32m━━━━━━━━━━━━━━━━━━━━\u001b[0m\u001b[37m\u001b[0m \u001b[1m1s\u001b[0m 3ms/step - loss: 0.3542 - mae: 0.4321 - val_loss: 0.3725 - val_mae: 0.4373\n",
      "Epoch 50/50\n",
      "\u001b[1m478/478\u001b[0m \u001b[32m━━━━━━━━━━━━━━━━━━━━\u001b[0m\u001b[37m\u001b[0m \u001b[1m1s\u001b[0m 3ms/step - loss: 0.3597 - mae: 0.4329 - val_loss: 0.3474 - val_mae: 0.4302\n",
      "Restoring model weights from the end of the best epoch: 48.\n"
     ]
    }
   ],
   "source": [
    "#Train the model  \n",
    "monitor = EarlyStopping(monitor='val_loss', min_delta=1e-4, patience=30, verbose=1, mode='auto', restore_best_weights=True)\n",
    "history = model.fit(X_train, y_train, validation_data=(X_test[:1000], y_test[:1000]), callbacks=[monitor], shuffle=False, epochs=50, batch_size=32)"
   ]
  },
  {
   "cell_type": "code",
   "execution_count": 11,
   "metadata": {},
   "outputs": [
    {
     "name": "stdout",
     "output_type": "stream",
     "text": [
      "dict_keys(['loss', 'mae', 'val_loss', 'val_mae'])\n"
     ]
    }
   ],
   "source": [
    "print(history.history.keys())"
   ]
  },
  {
   "cell_type": "code",
   "execution_count": 19,
   "metadata": {},
   "outputs": [
    {
     "data": {
      "image/png": "[encoded data removed]",
      "text/plain": [
       "<Figure size 640x480 with 1 Axes>"
      ]
     },
     "metadata": {},
     "output_type": "display_data"
    }
   ],
   "source": [
    "plt.plot(history.history['loss'], label='Train loss')\n",
    "plt.plot(history.history['val_loss'], label='Validation loss')\n",
    "plt.title('Loss vs epochs')\n",
    "plt.xlabel('Epochs')\n",
    "plt.ylabel('Loss')\n",
    "plt.legend()\n",
    "plt.show()\n"
   ]
  },
  {
   "cell_type": "code",
   "execution_count": 13,
   "metadata": {},
   "outputs": [
    {
     "name": "stdout",
     "output_type": "stream",
     "text": [
      "\u001b[1m4/4\u001b[0m \u001b[32m━━━━━━━━━━━━━━━━━━━━\u001b[0m\u001b[37m\u001b[0m \u001b[1m0s\u001b[0m 22ms/step\n"
     ]
    }
   ],
   "source": [
    "# Make predictions\n",
    "X_test1 = X_test[100:200]\n",
    "y_test1 = y_test[100:200]\n",
    "\n",
    "predictions = model.predict(X_test1)"
   ]
  },
  {
   "cell_type": "code",
   "execution_count": 14,
   "metadata": {},
   "outputs": [],
   "source": [
    "# Convert predictions back to euros\n",
    "\n",
    "# reverse the scaled data:\n",
    "predictions_log = scaler_y.inverse_transform(predictions)\n",
    "\n",
    "# reverse the logarith applied to target (price)\n",
    "predictions_actual = np.expm1(predictions_log)"
   ]
  },
  {
   "cell_type": "code",
   "execution_count": 15,
   "metadata": {},
   "outputs": [],
   "source": [
    "# Same process for the actual values of the price col\n",
    "y_test1_log = scaler_y.inverse_transform(y_test1)\n",
    "y_test_actual = np.expm1(y_test1_log)"
   ]
  },
  {
   "cell_type": "code",
   "execution_count": 16,
   "metadata": {},
   "outputs": [
    {
     "data": {
      "text/html": [
       "<div>\n",
       "<style scoped>\n",
       "    .dataframe tbody tr th:only-of-type {\n",
       "        vertical-align: middle;\n",
       "    }\n",
       "\n",
       "    .dataframe tbody tr th {\n",
       "        vertical-align: top;\n",
       "    }\n",
       "\n",
       "    .dataframe thead th {\n",
       "        text-align: right;\n",
       "    }\n",
       "</style>\n",
       "<table border=\"1\" class=\"dataframe\">\n",
       "  <thead>\n",
       "    <tr style=\"text-align: right;\">\n",
       "      <th></th>\n",
       "      <th>predictions</th>\n",
       "      <th>actual_price</th>\n",
       "    </tr>\n",
       "  </thead>\n",
       "  <tbody>\n",
       "    <tr>\n",
       "      <th>0</th>\n",
       "      <td>338237.437500</td>\n",
       "      <td>345000.0</td>\n",
       "    </tr>\n",
       "    <tr>\n",
       "      <th>1</th>\n",
       "      <td>386753.093750</td>\n",
       "      <td>511500.0</td>\n",
       "    </tr>\n",
       "    <tr>\n",
       "      <th>2</th>\n",
       "      <td>290344.500000</td>\n",
       "      <td>345000.0</td>\n",
       "    </tr>\n",
       "    <tr>\n",
       "      <th>3</th>\n",
       "      <td>549910.750000</td>\n",
       "      <td>434000.0</td>\n",
       "    </tr>\n",
       "    <tr>\n",
       "      <th>4</th>\n",
       "      <td>428191.468750</td>\n",
       "      <td>370000.0</td>\n",
       "    </tr>\n",
       "    <tr>\n",
       "      <th>...</th>\n",
       "      <td>...</td>\n",
       "      <td>...</td>\n",
       "    </tr>\n",
       "    <tr>\n",
       "      <th>95</th>\n",
       "      <td>266471.093750</td>\n",
       "      <td>170000.0</td>\n",
       "    </tr>\n",
       "    <tr>\n",
       "      <th>96</th>\n",
       "      <td>263892.312500</td>\n",
       "      <td>253000.0</td>\n",
       "    </tr>\n",
       "    <tr>\n",
       "      <th>97</th>\n",
       "      <td>383206.468750</td>\n",
       "      <td>1250000.0</td>\n",
       "    </tr>\n",
       "    <tr>\n",
       "      <th>98</th>\n",
       "      <td>459978.218750</td>\n",
       "      <td>375000.0</td>\n",
       "    </tr>\n",
       "    <tr>\n",
       "      <th>99</th>\n",
       "      <td>208310.515625</td>\n",
       "      <td>240000.0</td>\n",
       "    </tr>\n",
       "  </tbody>\n",
       "</table>\n",
       "<p>100 rows × 2 columns</p>\n",
       "</div>"
      ],
      "text/plain": [
       "      predictions  actual_price\n",
       "0   338237.437500      345000.0\n",
       "1   386753.093750      511500.0\n",
       "2   290344.500000      345000.0\n",
       "3   549910.750000      434000.0\n",
       "4   428191.468750      370000.0\n",
       "..            ...           ...\n",
       "95  266471.093750      170000.0\n",
       "96  263892.312500      253000.0\n",
       "97  383206.468750     1250000.0\n",
       "98  459978.218750      375000.0\n",
       "99  208310.515625      240000.0\n",
       "\n",
       "[100 rows x 2 columns]"
      ]
     },
     "execution_count": 16,
     "metadata": {},
     "output_type": "execute_result"
    }
   ],
   "source": [
    "# Make df for better interpretation\n",
    "predictions_actual = pd.DataFrame(predictions_actual)\n",
    "price_actual = pd.DataFrame(y_test_actual)\n",
    "\n",
    "compare_df = pd.concat([predictions_actual, price_actual], axis = 1)\n",
    "column_names = ['predictions', 'actual_price']\n",
    "compare_df.columns = column_names\n",
    "\n",
    "#compare_df['difference'] = compare_df.apply('predictions' - 'actual_price')\n",
    "\n",
    "compare_df"
   ]
  },
  {
   "cell_type": "code",
   "execution_count": 17,
   "metadata": {},
   "outputs": [
    {
     "name": "stdout",
     "output_type": "stream",
     "text": [
      "Root Mean Squared Error: 197465.57611960368\n"
     ]
    }
   ],
   "source": [
    "#mse = mean_squared_error(y_test_normal, predictions_actual)\n",
    "rmse = root_mean_squared_error(y_test_actual, predictions_actual)\n",
    "print(\"Root Mean Squared Error:\", rmse)"
   ]
  },
  {
   "cell_type": "code",
   "execution_count": 18,
   "metadata": {},
   "outputs": [
    {
     "name": "stdout",
     "output_type": "stream",
     "text": [
      "Mean Absolute Percentage Error (MAPE): 21.55 %\n"
     ]
    }
   ],
   "source": [
    "mape = np.mean(np.abs((y_test_actual - predictions_actual) / y_test_actual) * 100)\n",
    "mape = round(mape, 2)\n",
    "print(f\"Mean Absolute Percentage Error (MAPE): {mape} %\")"
   ]
  }
 ],
 "metadata": {
  "kernelspec": {
   "display_name": "mlenv",
   "language": "python",
   "name": "python3"
  },
  "language_info": {
   "codemirror_mode": {
    "name": "ipython",
    "version": 3
   },
   "file_extension": ".py",
   "mimetype": "text/x-python",
   "name": "python",
   "nbconvert_exporter": "python",
   "pygments_lexer": "ipython3",
   "version": "3.10.0"
  }
 },
 "nbformat": 4,
 "nbformat_minor": 2
}
