{
 "cells": [
  {
   "cell_type": "markdown",
   "metadata": {},
   "source": [
    "- Import the necessary libraries and load data."
   ]
  },
  {
   "cell_type": "code",
   "execution_count": 2,
   "metadata": {},
   "outputs": [],
   "source": [
    "import pandas as pd\n",
    "from utils.pre_processing_functions import encode_sub_type, convert_build_condition, encode_kitchen, get_latitude, get_longitude, get_distance\n",
    "\n",
    "df = pd.read_csv('../immo_eliza_analysis/cleaned-data.csv')"
   ]
  },
  {
   "cell_type": "markdown",
   "metadata": {},
   "source": [
    "We could now search for and delete the duplicates.\n",
    "However, after closer examination and cross validation for a couple of the duplicates,\n",
    "it has been discovered that some of the \"duplicates\" are properties that are part of real state projects, \n",
    "thus having similar information.\n",
    "\n",
    "It is important to notice that after the dataset is further processed and some features are removed,\n",
    "more duplicates might (or not) arise. Therefore, duplicates will be evaluated again at a later stage."
   ]
  },
  {
   "cell_type": "markdown",
   "metadata": {},
   "source": [
    "- Check for missing data: <br>\n",
    "Since the data set was cleaned for the analysis part, it now contains no missing values."
   ]
  },
  {
   "cell_type": "code",
   "execution_count": 3,
   "metadata": {},
   "outputs": [
    {
     "data": {
      "text/plain": [
       "zip_code                      0\n",
       "commune                       0\n",
       "province                      0\n",
       "type_of_property              0\n",
       "subtype_of_property           0\n",
       "price                         0\n",
       "building_condition            0\n",
       "facade_number                 0\n",
       "living_area                   0\n",
       "equipped_kitchen              0\n",
       "bedroom_nr                    0\n",
       "swimming_pool                 0\n",
       "furnished                     0\n",
       "open_fire                     0\n",
       "terrace                       0\n",
       "garden                        0\n",
       "plot_surface                  0\n",
       "sub_property_group_encoded    0\n",
       "dtype: int64"
      ]
     },
     "execution_count": 3,
     "metadata": {},
     "output_type": "execute_result"
    }
   ],
   "source": [
    "df.isna().sum()"
   ]
  },
  {
   "cell_type": "markdown",
   "metadata": {},
   "source": [
    "- Drop unecessary colums: \n",
    "    - swimming_pool, furnished, open_fire, sub_property_group_encoded <br>\n",
    "- Drop columns which have high correlation with others: \n",
    "    - bedroom_nr\n"
   ]
  },
  {
   "cell_type": "code",
   "execution_count": 4,
   "metadata": {},
   "outputs": [],
   "source": [
    "df.drop(['bedroom_nr', 'swimming_pool', 'furnished', 'open_fire', 'sub_property_group_encoded'], axis=1, inplace=True)"
   ]
  },
  {
   "cell_type": "markdown",
   "metadata": {},
   "source": [
    "- Drop observations under \"other\" type of property."
   ]
  },
  {
   "cell_type": "code",
   "execution_count": 5,
   "metadata": {},
   "outputs": [],
   "source": [
    "other_properties = df[df['subtype_of_property'].isin(['other property', 'mixed use building', ])].index\n",
    "df.drop(other_properties, inplace=True)"
   ]
  },
  {
   "cell_type": "code",
   "execution_count": 7,
   "metadata": {},
   "outputs": [],
   "source": [
    "# Make dictionary to ecode property subtype\n",
    "sub_types_dict = {'kot': 0,\n",
    "'chalet': 1,\n",
    "'flat studio' : 2,\n",
    "'service flat': 3,\n",
    "'bungalow': 4,\n",
    "'town house': 5,\n",
    "'ground floor': 6,\n",
    "'apartment': 7,\n",
    "'house': 8,\n",
    "'triplex': 9,\n",
    "'farmhouse': 10,\n",
    "'loft': 11,\n",
    "'duplex': 12,\n",
    "'apartment block': 13,\n",
    "'country cottage': 14,\n",
    "'penthouse': 15,\n",
    "'mansion': 16,\n",
    "'villa': 17,\n",
    "'exceptional property': 18,\n",
    "'manor house': 19,\n",
    "'castle': 20}"
   ]
  },
  {
   "cell_type": "code",
   "execution_count": 8,
   "metadata": {},
   "outputs": [],
   "source": [
    "# Apply encode subtype function and convert values to int\n",
    "df['subtype_ecoded'] = df['subtype_of_property'].apply(lambda x: encode_sub_type(x, sub_types_dict))\n",
    "df['subtype_ecoded'] = df['subtype_ecoded'].astype(int)"
   ]
  },
  {
   "cell_type": "markdown",
   "metadata": {},
   "source": [
    "- Converting 'building condition' to numeric values. <br>\n",
    "\n",
    "Removed observations with 'no info' about the building condition. <br>\n",
    "Although some of those observations correspond to new projects, there is no way to confirm if all 'no info' properties are 'new'."
   ]
  },
  {
   "cell_type": "code",
   "execution_count": 9,
   "metadata": {},
   "outputs": [],
   "source": [
    "# Drop unknown building condition rows:\n",
    "unknown_building_state = df[df['building_condition'] == 'no info'].index\n",
    "df.drop(unknown_building_state, inplace=True)\n",
    "\n",
    "# Apply function to convert building condition to numberic\n",
    "df['building_condition'] = df['building_condition'].apply(convert_build_condition)"
   ]
  },
  {
   "cell_type": "markdown",
   "metadata": {},
   "source": [
    "Further preprocessing our data, we discover that there are two appartments with 5 facades. They corresponds to a project (immoweb id 20147859) of apartments of 1,2 and 3 rooms, not a specific one with 5 facades, for which it was decided to remove this observation."
   ]
  },
  {
   "cell_type": "code",
   "execution_count": 10,
   "metadata": {},
   "outputs": [],
   "source": [
    "# Remove apartments with 5 facades\n",
    "drop_by_facades = df[(df['facade_number'] > 4) & (df['type_of_property'] == 0)].index\n",
    "df.drop(drop_by_facades, inplace=True)"
   ]
  },
  {
   "cell_type": "markdown",
   "metadata": {},
   "source": [
    "- 'equipped_kitchen' still needs to be changed to a numerical value: {not installed: 0, installed: 1} "
   ]
  },
  {
   "cell_type": "code",
   "execution_count": 11,
   "metadata": {},
   "outputs": [
    {
     "name": "stdout",
     "output_type": "stream",
     "text": [
      "equipped_kitchen\n",
      "equipped         6767\n",
      "not installed    6700\n",
      "installed        5640\n",
      "Name: count, dtype: int64\n",
      "Checking that the change was made:\n"
     ]
    },
    {
     "data": {
      "text/plain": [
       "equipped_kitchen\n",
       "2    6767\n",
       "0    6700\n",
       "1    5640\n",
       "Name: count, dtype: int64"
      ]
     },
     "execution_count": 11,
     "metadata": {},
     "output_type": "execute_result"
    }
   ],
   "source": [
    "print(df['equipped_kitchen'].value_counts())\n",
    "\n",
    "# change it to numerical values\n",
    "df['equipped_kitchen'] = df['equipped_kitchen'].apply(encode_kitchen)\n",
    "\n",
    "# check the change was made\n",
    "print('Checking that the change was made:')\n",
    "df['equipped_kitchen'].value_counts()"
   ]
  },
  {
   "cell_type": "markdown",
   "metadata": {},
   "source": [
    "Now, there are nearly 900 houses without plot size, which might affect the model's predictions:"
   ]
  },
  {
   "cell_type": "code",
   "execution_count": null,
   "metadata": {},
   "outputs": [
    {
     "name": "stdout",
     "output_type": "stream",
     "text": [
      "Houses without plot surfacce: 893\n"
     ]
    }
   ],
   "source": [
    "# drop houses without plot size\n",
    "zero_plot_surface = df[(df['type_of_property'] == 1) & (df['plot_surface'] == 0)]\n",
    "print(f'Houses without plot surfacce: {zero_plot_surface.shape[0]}')"
   ]
  },
  {
   "cell_type": "markdown",
   "metadata": {},
   "source": [
    "Since it represents about 10% of the total observations for houses, it was decided to add the mean plot size for houses in its commune to these observations. <br><br>\n",
    "However, when computing the mean plot size per commune, it was discovered that some properties have very small values, such as 50 (sqm) or less, <br> which seemed very unlikely:"
   ]
  },
  {
   "cell_type": "code",
   "execution_count": 13,
   "metadata": {},
   "outputs": [
    {
     "name": "stdout",
     "output_type": "stream",
     "text": [
      "Houses with plot surface < 50: 1016\n",
      "Houses with plot surface < 25: 906\n"
     ]
    }
   ],
   "source": [
    "houses_df = df[df['type_of_property'] == 1]\n",
    "small_plot_houses = houses_df[houses_df['plot_surface'] <= 50].shape[0]\n",
    "print(f'Houses with plot surface < 50: {small_plot_houses}')\n",
    "\n",
    "super_small_house_plots = houses_df[houses_df['plot_surface'] < 25].shape[0]\n",
    "print(f'Houses with plot surface < 25: {super_small_house_plots}')"
   ]
  },
  {
   "cell_type": "markdown",
   "metadata": {},
   "source": [
    "For this, it was decided to also drop the 'plot_surface' column."
   ]
  },
  {
   "cell_type": "code",
   "execution_count": 14,
   "metadata": {},
   "outputs": [],
   "source": [
    "df.drop('plot_surface', axis=1, inplace=True)"
   ]
  },
  {
   "cell_type": "markdown",
   "metadata": {},
   "source": [
    "- Check for duplicates <br>\n",
    "As per the below data frame, these represent no duplicates. Therefore, they will be kept in the data set."
   ]
  },
  {
   "cell_type": "code",
   "execution_count": 15,
   "metadata": {},
   "outputs": [
    {
     "data": {
      "text/html": [
       "<div>\n",
       "<style scoped>\n",
       "    .dataframe tbody tr th:only-of-type {\n",
       "        vertical-align: middle;\n",
       "    }\n",
       "\n",
       "    .dataframe tbody tr th {\n",
       "        vertical-align: top;\n",
       "    }\n",
       "\n",
       "    .dataframe thead th {\n",
       "        text-align: right;\n",
       "    }\n",
       "</style>\n",
       "<table border=\"1\" class=\"dataframe\">\n",
       "  <thead>\n",
       "    <tr style=\"text-align: right;\">\n",
       "      <th></th>\n",
       "      <th>zip_code</th>\n",
       "      <th>commune</th>\n",
       "      <th>province</th>\n",
       "      <th>type_of_property</th>\n",
       "      <th>subtype_of_property</th>\n",
       "      <th>price</th>\n",
       "      <th>building_condition</th>\n",
       "      <th>facade_number</th>\n",
       "      <th>living_area</th>\n",
       "      <th>equipped_kitchen</th>\n",
       "      <th>terrace</th>\n",
       "      <th>garden</th>\n",
       "      <th>subtype_ecoded</th>\n",
       "    </tr>\n",
       "  </thead>\n",
       "  <tbody>\n",
       "    <tr>\n",
       "      <th>11589</th>\n",
       "      <td>9300</td>\n",
       "      <td>Aalst</td>\n",
       "      <td>Oost-Vlaanderen</td>\n",
       "      <td>0</td>\n",
       "      <td>apartment</td>\n",
       "      <td>260250.0</td>\n",
       "      <td>2</td>\n",
       "      <td>2.0</td>\n",
       "      <td>110</td>\n",
       "      <td>2</td>\n",
       "      <td>8</td>\n",
       "      <td>0</td>\n",
       "      <td>7</td>\n",
       "    </tr>\n",
       "    <tr>\n",
       "      <th>1858</th>\n",
       "      <td>9300</td>\n",
       "      <td>Aalst</td>\n",
       "      <td>Oost-Vlaanderen</td>\n",
       "      <td>0</td>\n",
       "      <td>penthouse</td>\n",
       "      <td>549000.0</td>\n",
       "      <td>2</td>\n",
       "      <td>2.0</td>\n",
       "      <td>180</td>\n",
       "      <td>1</td>\n",
       "      <td>15</td>\n",
       "      <td>0</td>\n",
       "      <td>15</td>\n",
       "    </tr>\n",
       "    <tr>\n",
       "      <th>22722</th>\n",
       "      <td>9300</td>\n",
       "      <td>Aalst</td>\n",
       "      <td>Oost-Vlaanderen</td>\n",
       "      <td>1</td>\n",
       "      <td>house</td>\n",
       "      <td>1350000.0</td>\n",
       "      <td>2</td>\n",
       "      <td>2.0</td>\n",
       "      <td>992</td>\n",
       "      <td>1</td>\n",
       "      <td>0</td>\n",
       "      <td>0</td>\n",
       "      <td>8</td>\n",
       "    </tr>\n",
       "    <tr>\n",
       "      <th>21053</th>\n",
       "      <td>9300</td>\n",
       "      <td>Aalst</td>\n",
       "      <td>Oost-Vlaanderen</td>\n",
       "      <td>1</td>\n",
       "      <td>house</td>\n",
       "      <td>239000.0</td>\n",
       "      <td>2</td>\n",
       "      <td>2.0</td>\n",
       "      <td>120</td>\n",
       "      <td>1</td>\n",
       "      <td>1</td>\n",
       "      <td>0</td>\n",
       "      <td>8</td>\n",
       "    </tr>\n",
       "    <tr>\n",
       "      <th>20238</th>\n",
       "      <td>8211</td>\n",
       "      <td>Aartrijke</td>\n",
       "      <td>West-Vlaanderen</td>\n",
       "      <td>1</td>\n",
       "      <td>house</td>\n",
       "      <td>338500.0</td>\n",
       "      <td>2</td>\n",
       "      <td>3.0</td>\n",
       "      <td>159</td>\n",
       "      <td>1</td>\n",
       "      <td>1</td>\n",
       "      <td>0</td>\n",
       "      <td>8</td>\n",
       "    </tr>\n",
       "  </tbody>\n",
       "</table>\n",
       "</div>"
      ],
      "text/plain": [
       "       zip_code    commune         province  type_of_property  \\\n",
       "11589      9300      Aalst  Oost-Vlaanderen                 0   \n",
       "1858       9300      Aalst  Oost-Vlaanderen                 0   \n",
       "22722      9300      Aalst  Oost-Vlaanderen                 1   \n",
       "21053      9300      Aalst  Oost-Vlaanderen                 1   \n",
       "20238      8211  Aartrijke  West-Vlaanderen                 1   \n",
       "\n",
       "      subtype_of_property      price  building_condition  facade_number  \\\n",
       "11589           apartment   260250.0                   2            2.0   \n",
       "1858            penthouse   549000.0                   2            2.0   \n",
       "22722               house  1350000.0                   2            2.0   \n",
       "21053               house   239000.0                   2            2.0   \n",
       "20238               house   338500.0                   2            3.0   \n",
       "\n",
       "       living_area  equipped_kitchen  terrace  garden  subtype_ecoded  \n",
       "11589          110                 2        8       0               7  \n",
       "1858           180                 1       15       0              15  \n",
       "22722          992                 1        0       0               8  \n",
       "21053          120                 1        1       0               8  \n",
       "20238          159                 1        1       0               8  "
      ]
     },
     "execution_count": 15,
     "metadata": {},
     "output_type": "execute_result"
    }
   ],
   "source": [
    "df[df.duplicated(['commune', 'price', 'living_area'])].sort_values(by= 'commune').head()"
   ]
  },
  {
   "cell_type": "markdown",
   "metadata": {},
   "source": [
    "### Feature engineering <br>\n",
    "Since the data set contains the zip code where the property is located and the commune it belogs to, the distance to the province's capital was added.<br><br>\n",
    "\n",
    "For this, we first need to import the zipcodes and its corresponding coordinates."
   ]
  },
  {
   "cell_type": "code",
   "execution_count": 16,
   "metadata": {},
   "outputs": [],
   "source": [
    "zip_codes_df = pd.read_csv('utils/zipcode_belgium.csv')\n",
    "\n",
    "zip_codes_df.index = zip_codes_df.index + 1  # Shift all other rows down\n",
    "zip_codes_df.loc[0] = zip_codes_df.columns # Add info for Brussels, beacuase it is incorrectly used at the column names in the original csv file.\n",
    "\n",
    "# Correct column names\n",
    "column_names = ['zip_code_col', 'commune', 'longitude', 'latitude']\n",
    "zip_codes_df = zip_codes_df.sort_index()\n",
    "zip_codes_df.columns = column_names\n",
    "\n",
    "# Correct data type of the columns, because it caused error to function\n",
    "zip_codes_df['zip_code_col'] = zip_codes_df['zip_code_col'].astype(int)\n",
    "zip_codes_df['latitude'] = zip_codes_df['latitude'].astype(float)\n",
    "zip_codes_df['longitude'] = zip_codes_df['longitude'].astype(float)"
   ]
  },
  {
   "cell_type": "code",
   "execution_count": 17,
   "metadata": {},
   "outputs": [],
   "source": [
    "# Add latitude and logitude to all observations\n",
    "df['latitude'] = df['zip_code'].apply(lambda x: get_latitude(x, zip_codes_df))\n",
    "df['longitude'] = df['zip_code'].apply(lambda x: get_longitude(x, zip_codes_df))"
   ]
  },
  {
   "cell_type": "markdown",
   "metadata": {},
   "source": [
    "Now, we assign the corresponding distance to each property. <br>\n",
    "First, we create a data frame with the latitude and longitude of each province's capital:"
   ]
  },
  {
   "cell_type": "code",
   "execution_count": 18,
   "metadata": {},
   "outputs": [],
   "source": [
    "provinces = [\n",
    "['West-Vlaanderen', 'Oost-Vlaanderen', 'Antwerpen', 'Liège', 'Vlaams Brabant', 'Hainaut', 'Brabant Wallon', 'Namur', 'Luxembourg', 'Limburg', 'Bruxelles'],\n",
    "[51.2085, 51.05, 51.2199, 50.6402, 50.8791, 60.3913, 50.7154, 50.4649, 49.6116, 50.9305, 50.8477],\n",
    "[3.2251, 3.7304, 4.415, 5.5689, 4.7025, 5.3221, 4.6177, 4.865, 6.1319, 5.3324, 4.3572]\n",
    " ]    \n",
    "col_names = ['province', 'latitude', 'longitude']\n",
    "provinces_df = pd.DataFrame(provinces).T\n",
    "provinces_df.columns = col_names\n",
    "provinces_df['latitude'] = provinces_df['latitude'].astype(float)\n",
    "provinces_df['longitude'] = provinces_df['longitude'].astype(float)"
   ]
  },
  {
   "cell_type": "markdown",
   "metadata": {},
   "source": [
    "Now, the distance of each property to its province's capilat is calculated and added:"
   ]
  },
  {
   "cell_type": "code",
   "execution_count": 19,
   "metadata": {},
   "outputs": [],
   "source": [
    "df['km_to_capital'] = df.apply(lambda row: get_distance(row, provinces_df), axis=1)"
   ]
  },
  {
   "cell_type": "markdown",
   "metadata": {},
   "source": [
    "Finally, we can drop the columns we no longer need: <br> \n",
    "-sub_type_of_property, zip_code, commune and provice columns."
   ]
  },
  {
   "cell_type": "code",
   "execution_count": 20,
   "metadata": {},
   "outputs": [],
   "source": [
    "df.drop(['subtype_of_property', 'zip_code', 'commune', 'province', 'latitude', 'longitude'], axis=1, inplace=True)"
   ]
  },
  {
   "cell_type": "code",
   "execution_count": 21,
   "metadata": {},
   "outputs": [
    {
     "data": {
      "text/html": [
       "<div>\n",
       "<style scoped>\n",
       "    .dataframe tbody tr th:only-of-type {\n",
       "        vertical-align: middle;\n",
       "    }\n",
       "\n",
       "    .dataframe tbody tr th {\n",
       "        vertical-align: top;\n",
       "    }\n",
       "\n",
       "    .dataframe thead th {\n",
       "        text-align: right;\n",
       "    }\n",
       "</style>\n",
       "<table border=\"1\" class=\"dataframe\">\n",
       "  <thead>\n",
       "    <tr style=\"text-align: right;\">\n",
       "      <th></th>\n",
       "      <th>type_of_property</th>\n",
       "      <th>price</th>\n",
       "      <th>building_condition</th>\n",
       "      <th>facade_number</th>\n",
       "      <th>living_area</th>\n",
       "      <th>equipped_kitchen</th>\n",
       "      <th>terrace</th>\n",
       "      <th>garden</th>\n",
       "      <th>subtype_ecoded</th>\n",
       "      <th>km_to_capital</th>\n",
       "    </tr>\n",
       "  </thead>\n",
       "  <tbody>\n",
       "    <tr>\n",
       "      <th>0</th>\n",
       "      <td>0</td>\n",
       "      <td>149000.0</td>\n",
       "      <td>2</td>\n",
       "      <td>2.0</td>\n",
       "      <td>48</td>\n",
       "      <td>1</td>\n",
       "      <td>9</td>\n",
       "      <td>0</td>\n",
       "      <td>7</td>\n",
       "      <td>3.33</td>\n",
       "    </tr>\n",
       "    <tr>\n",
       "      <th>1</th>\n",
       "      <td>0</td>\n",
       "      <td>248000.0</td>\n",
       "      <td>2</td>\n",
       "      <td>2.0</td>\n",
       "      <td>91</td>\n",
       "      <td>1</td>\n",
       "      <td>2</td>\n",
       "      <td>0</td>\n",
       "      <td>7</td>\n",
       "      <td>3.91</td>\n",
       "    </tr>\n",
       "    <tr>\n",
       "      <th>2</th>\n",
       "      <td>0</td>\n",
       "      <td>229000.0</td>\n",
       "      <td>2</td>\n",
       "      <td>2.0</td>\n",
       "      <td>100</td>\n",
       "      <td>0</td>\n",
       "      <td>26</td>\n",
       "      <td>0</td>\n",
       "      <td>7</td>\n",
       "      <td>6.62</td>\n",
       "    </tr>\n",
       "    <tr>\n",
       "      <th>3</th>\n",
       "      <td>0</td>\n",
       "      <td>470000.0</td>\n",
       "      <td>2</td>\n",
       "      <td>2.0</td>\n",
       "      <td>179</td>\n",
       "      <td>2</td>\n",
       "      <td>10</td>\n",
       "      <td>0</td>\n",
       "      <td>7</td>\n",
       "      <td>5.29</td>\n",
       "    </tr>\n",
       "    <tr>\n",
       "      <th>4</th>\n",
       "      <td>0</td>\n",
       "      <td>480000.0</td>\n",
       "      <td>2</td>\n",
       "      <td>2.0</td>\n",
       "      <td>116</td>\n",
       "      <td>1</td>\n",
       "      <td>7</td>\n",
       "      <td>0</td>\n",
       "      <td>7</td>\n",
       "      <td>1.07</td>\n",
       "    </tr>\n",
       "  </tbody>\n",
       "</table>\n",
       "</div>"
      ],
      "text/plain": [
       "   type_of_property     price  building_condition  facade_number  living_area  \\\n",
       "0                 0  149000.0                   2            2.0           48   \n",
       "1                 0  248000.0                   2            2.0           91   \n",
       "2                 0  229000.0                   2            2.0          100   \n",
       "3                 0  470000.0                   2            2.0          179   \n",
       "4                 0  480000.0                   2            2.0          116   \n",
       "\n",
       "   equipped_kitchen  terrace  garden  subtype_ecoded  km_to_capital  \n",
       "0                 1        9       0               7           3.33  \n",
       "1                 1        2       0               7           3.91  \n",
       "2                 0       26       0               7           6.62  \n",
       "3                 2       10       0               7           5.29  \n",
       "4                 1        7       0               7           1.07  "
      ]
     },
     "execution_count": 21,
     "metadata": {},
     "output_type": "execute_result"
    }
   ],
   "source": [
    "df.head()"
   ]
  },
  {
   "cell_type": "code",
   "execution_count": 22,
   "metadata": {},
   "outputs": [
    {
     "data": {
      "text/plain": [
       "type_of_property        int64\n",
       "price                 float64\n",
       "building_condition      int64\n",
       "facade_number         float64\n",
       "living_area             int64\n",
       "equipped_kitchen        int64\n",
       "terrace                 int64\n",
       "garden                  int64\n",
       "subtype_ecoded          int64\n",
       "km_to_capital         float64\n",
       "dtype: object"
      ]
     },
     "execution_count": 22,
     "metadata": {},
     "output_type": "execute_result"
    }
   ],
   "source": [
    "df.dtypes"
   ]
  },
  {
   "cell_type": "markdown",
   "metadata": {},
   "source": [
    "The data is ready to be used in machine learning."
   ]
  },
  {
   "cell_type": "code",
   "execution_count": 23,
   "metadata": {},
   "outputs": [],
   "source": [
    "df.to_csv('ml_data.csv', index=False)"
   ]
  }
 ],
 "metadata": {
  "kernelspec": {
   "display_name": "mlenv",
   "language": "python",
   "name": "python3"
  },
  "language_info": {
   "codemirror_mode": {
    "name": "ipython",
    "version": 3
   },
   "file_extension": ".py",
   "mimetype": "text/x-python",
   "name": "python",
   "nbconvert_exporter": "python",
   "pygments_lexer": "ipython3",
   "version": "3.10.0"
  }
 },
 "nbformat": 4,
 "nbformat_minor": 2
}
